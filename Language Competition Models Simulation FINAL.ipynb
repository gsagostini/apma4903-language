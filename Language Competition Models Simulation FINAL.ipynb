{
 "cells": [
  {
   "cell_type": "code",
   "execution_count": 1,
   "metadata": {},
   "outputs": [],
   "source": [
    "import numpy as np\n",
    "import math\n",
    "\n",
    "import matplotlib.pyplot as plt\n",
    "\n",
    "import pandas as pd\n",
    "from pathlib import Path"
   ]
  },
  {
   "cell_type": "markdown",
   "metadata": {},
   "source": [
    "# Modelling Language Competition with Dynamical Systems\n",
    "\n",
    "Gabriel Agostini, Gary Casey, and Theresa Brown\n",
    "\n",
    "Code reference: https://github.com/TavoGLC/DataAnalysisByExample/tree/master/ParameterEstimation\n",
    "\n",
    "November 18th, 2020"
   ]
  },
  {
   "cell_type": "markdown",
   "metadata": {},
   "source": [
    "## 1. Data"
   ]
  },
  {
   "cell_type": "markdown",
   "metadata": {},
   "source": [
    "We load the data for the $4$ cases we would like to test this model against. The data will be an $n\\times 5$ dataframe whose columns are respectively the time array $T$, the total number of monolingual speakers of the preferred language $X_1$, the number of monolingual speakers of the minority language $X_2$, the number of bilingual speakers, and the total population at the given time. Full references are included in the repo."
   ]
  },
  {
   "cell_type": "markdown",
   "metadata": {},
   "source": [
    "(1) English vs. Welsh in Wales ($n=28$)"
   ]
  },
  {
   "cell_type": "code",
   "execution_count": 2,
   "metadata": {},
   "outputs": [],
   "source": [
    "#NOTE that the data for 2002-2019 comes from a single source, and might disagree with the previous\n",
    "# data. Those are rows of idx 10-27. I create new dataframes for each.\n",
    "\n",
    "welsh_data = pd.read_csv(Path(\"data\", \"welsh.csv\"))\n",
    "welsh_hist_data = welsh_data[:10]\n",
    "welsh_new_data = welsh_data[10:]"
   ]
  },
  {
   "cell_type": "markdown",
   "metadata": {},
   "source": [
    "(2) English vs. Spanish in the US ($n = ?$)"
   ]
  },
  {
   "cell_type": "code",
   "execution_count": null,
   "metadata": {},
   "outputs": [],
   "source": []
  },
  {
   "cell_type": "markdown",
   "metadata": {},
   "source": [
    "(3) English vs. French in Montreal ($n=?$)"
   ]
  },
  {
   "cell_type": "code",
   "execution_count": null,
   "metadata": {},
   "outputs": [],
   "source": []
  },
  {
   "cell_type": "markdown",
   "metadata": {},
   "source": [
    "## 2. Models"
   ]
  },
  {
   "cell_type": "markdown",
   "metadata": {},
   "source": [
    "I use the odeint function in scipy.integrate with the Runge-Kutta order $4$ method. For parameter fitting, I use the curve_fit function in scipy.optimize."
   ]
  },
  {
   "cell_type": "code",
   "execution_count": 3,
   "metadata": {},
   "outputs": [],
   "source": [
    "from scipy.integrate import odeint\n",
    "from scipy.optimize import curve_fit"
   ]
  },
  {
   "cell_type": "markdown",
   "metadata": {},
   "source": [
    "Defining ODE solvers and fitting functions for each of the models, along with a function that, given the data, returns what we need to plot:"
   ]
  },
  {
   "cell_type": "markdown",
   "metadata": {},
   "source": [
    "### 2.1. Abrams-Strogatz Model (2003)"
   ]
  },
  {
   "cell_type": "markdown",
   "metadata": {},
   "source": [
    "The Abrams-Strogatz Model (2003) uses the following equation:\n",
    "\n",
    "$$\\dfrac{d x}{dt} = cs (1-x)x^a - c(1-s)x(1-x)^a$$\n",
    "\n",
    "There are three parameters here, namely $c$, $a$ and $s$. The equation for the second language will not be necessary as they are decoupled and $x_1 = 1 - x_2$."
   ]
  },
  {
   "cell_type": "code",
   "execution_count": 4,
   "metadata": {},
   "outputs": [],
   "source": [
    "def AS(data, data_x_column=2, AS_bestGuess=None, computeMSE=True):\n",
    "    #First we do the modelling:\n",
    "    def AS_Model(x, c, s, a):\n",
    "        x = abs(x) #just in case we reachead below zero, since we are exponentiating\n",
    "        y = abs(1-x)\n",
    "        s = s\n",
    "        s_y = 1-s\n",
    "        F = c*s*y*(x**a) - c*s_y*x*(y**a)\n",
    "        return F\n",
    "\n",
    "    def AS_ModelSolver(IC, t, c, s, a):\n",
    "        #It is more stable to pass to the odeint method a function without additional parameters:\n",
    "        def LocalModel(IC, t):\n",
    "            return AS_Model(IC, c, s, a)\n",
    "        #Now we call the solver, since no method is specified this uses RK45\n",
    "        Solution = odeint(LocalModel, IC, t)\n",
    "        return Solution[:,0]\n",
    "    \n",
    "    #We prepare the data:\n",
    "    def AS_preparedata(full_data, x_column=2):\n",
    "\n",
    "        #First we get the datapoints column:\n",
    "        select_data = full_data.values[:,x_column]\n",
    "        #Normalize it:\n",
    "        data = select_data/np.sum(select_data)\n",
    "\n",
    "        #Get initial condition:\n",
    "        IC = data[0]\n",
    "\n",
    "        #Formatting the time:\n",
    "        raw_dataTime = full_data.values[:,0]\n",
    "        t0 = raw_dataTime[0]\n",
    "        tf = raw_dataTime[-1]\n",
    "\n",
    "        dataTime = raw_dataTime - t0 #Discrete time that matches the datapoints\n",
    "        SolverTime = np.linspace(0, tf-t0+1) #Continuous-ish time to plot the solution fitted\n",
    "\n",
    "        RealData = np.array([dataTime, data])\n",
    "        return IC, data, dataTime, SolverTime, RealData\n",
    "    \n",
    "    AS_IC, AS_data, AS_dataTime, AS_SolverTime, AS_RealData = AS_preparedata(data,\n",
    "                                                                             x_column=data_x_column)\n",
    "\n",
    "    #Now that we have the IC, we can define the function for the fit:\n",
    "    def AS_ModelFit(t, c, s, a):\n",
    "        return AS_ModelSolver(AS_IC, t, c, s, a)\n",
    "    \n",
    "    #Define the functions for the initial guess estimation:\n",
    "    \n",
    "    #Measures the squared error between the data and the fit given an initial parameter guess\n",
    "    def AS_SquaredError(InitialParameterGuess, SolverTime=AS_dataTime, data=AS_data, IC=AS_IC):\n",
    "        try:\n",
    "            #Some guesses will result in an error or an invalid integration \n",
    "            #this ensures that the error is estimated only for valid solutions \n",
    "            tempAS_params = curve_fit(AS_ModelFit, SolverTime, data, p0=InitialParameterGuess)[0]\n",
    "            tempSolution = AS_ModelSolver(IC, SolverTime,\n",
    "                                          tempAS_params[0], tempAS_params[1], tempAS_params[2])\n",
    "            error = [(pred-real)**2 for pred,real in zip(tempSolution, data)] \n",
    "        except RuntimeError:\n",
    "            #Based on the scale of the data the following list of values will be\n",
    "            # large enough to be rejected as a solution \n",
    "            error = [np.sum(data),np.sum(data)]\n",
    "        return sum(error)\n",
    "    #Random selection of the initial guess values \n",
    "    def AS_RandomSearch(nIt=10):\n",
    "        GuessContainer=[]\n",
    "        ErrorContainer=[]   \n",
    "        for k in range(nIt):\n",
    "\n",
    "            lGuess=[np.random.uniform(low=0,high=2), #estimated bound on c\n",
    "                    np.random.uniform(low=0,high=1), #bound on s\n",
    "                    np.random.uniform(low=0,high=2)] #estimated bound on a\n",
    "            lerror=AS_SquaredError(lGuess)\n",
    "\n",
    "            GuessContainer.append(lGuess) #Contains the list of random initial values \n",
    "            ErrorContainer.append(lerror) #List of the errors \n",
    "\n",
    "        minError=np.min(ErrorContainer) #Min error value\n",
    "        #print(minError)\n",
    "        minLocation=[j for j in range(nIt) if ErrorContainer[j]==minError] #Returns the location of the min value in the list\n",
    "        #print(minLocation)\n",
    "        bestGuess=GuessContainer[minLocation[0]] #Best initial value guess \n",
    "        return ErrorContainer,bestGuess \n",
    "    \n",
    "    #If we are not given an initial guess, we must find it:\n",
    "    if type(AS_bestGuess) == type(None):\n",
    "        errs, AS_bestGuess = AS_RandomSearch(10)\n",
    "    \n",
    "    #Now we do the fit:\n",
    "    AS_Fit = curve_fit(AS_ModelFit, AS_dataTime, AS_data, p0=AS_bestGuess)\n",
    "    AS_bestParams = AS_Fit[0]\n",
    "    \n",
    "    #Using these parameters, we can run the model to get a \"continuous\" solution:\n",
    "    AS_fitSolution = AS_ModelSolver(AS_IC, AS_SolverTime,\n",
    "                                AS_bestParams[0], AS_bestParams[1], AS_bestParams[2])\n",
    "    AS_ModelData = np.array([AS_SolverTime, AS_fitSolution])\n",
    "    \n",
    "    #If we want, we can return the MSE:\n",
    "    MSE = None\n",
    "    if computeMSE == True:\n",
    "        MSE = np.sum([(pred-real)**2 for pred,real in zip(AS_fitSolution, AS_data)])\n",
    "    \n",
    "    return AS_RealData, AS_ModelData, AS_bestParams, MSE"
   ]
  },
  {
   "cell_type": "markdown",
   "metadata": {},
   "source": [
    "### 2.2. Zhang-Gong Model (2013)"
   ]
  },
  {
   "cell_type": "markdown",
   "metadata": {},
   "source": [
    "The Zhang-Gong Model (2003) uses the following equations:\n",
    "\n",
    "$$\\begin{cases}\n",
    "\\dfrac{d x_1}{dt} = r_1x_1\\left(1 - \\dfrac{1}{N_1}x_1 - \\dfrac{\\sigma_1}{N_2}x_2\\right)\n",
    "\\\\\n",
    "\\dfrac{d x_2}{dt} = r_2x_2\\left(1 - \\dfrac{1}{N_2}x_2 - \\dfrac{\\sigma_2}{N_1}x_1\\right)\n",
    "\\end{cases}$$\n",
    "\n",
    "There are six parameters here, namely $r_1, r_2, N_1, N_2, \\sigma_1, \\sigma_2$."
   ]
  },
  {
   "cell_type": "markdown",
   "metadata": {},
   "source": [
    "To find the initial guess of the Zhang-Gong model, we can use their own techniques of estimation. To compute $r$ they use (when data is available), the language inheritance principle I:\n",
    "\n",
    "$$r_1 = p(L_1) = p(L_1L_1) + \\dfrac{1}{2}p(L_1L_2)\\quad\\text{and}\\quad r_2 = p(L_2) = p(L_2L_2) + \\dfrac{1}{2}p(L_1L_2)$$\n",
    "\n",
    "Where $p(XY)$ is the relative proportion of speakers of the languages $X$ and $Y$ in the population."
   ]
  },
  {
   "cell_type": "code",
   "execution_count": 10,
   "metadata": {},
   "outputs": [],
   "source": [
    "#Take the array L to be a 1x3 array with the size of monol population for L1,\n",
    "# for L2, and bilingual respectively\n",
    "def R(L):\n",
    "    tot = np.sum(L)\n",
    "    p_11 = L[0]/tot\n",
    "    p_22 = L[1]/tot\n",
    "    p_12 = L[2]/tot\n",
    "    \n",
    "    return np.array([p_11 + 0.5*p_12, p_22 + 0.5*p_12])"
   ]
  },
  {
   "cell_type": "markdown",
   "metadata": {},
   "source": [
    "Sigma can be estimated according to the language diffusion principle:\n",
    "\n",
    "$$\\sigma_1 = \\dfrac{Q_2}{Q_1}\\exp\\left(\\dfrac{d^2_1 - d^2_2}{4}\\right)\\quad\\text{and}\\quad\n",
    "\\sigma_2 = \\dfrac{Q_1}{Q_2}\\exp\\left(\\dfrac{d^2_2 - d^2_1}{4}\\right)$$\n",
    "\n",
    "Where $d_i$ is the distance of the population from the language center and $Q_i$ is the speaker population at the cultural center."
   ]
  },
  {
   "cell_type": "code",
   "execution_count": 11,
   "metadata": {},
   "outputs": [],
   "source": [
    "def Sigma(Q, D):\n",
    "    if type(D) == type(None):\n",
    "        D = np.zeros_like(Q)\n",
    "    sigma_1 = (Q[1]/(Q[0]+0.1))*math.exp((D[0]**2 - D[1]**2)/4)\n",
    "    sigma_2 = (Q[0]/(Q[1]+0.1))*math.exp((D[1]**2 - D[0]**2)/4)\n",
    "    return np.array([sigma_1, sigma_2])"
   ]
  },
  {
   "cell_type": "markdown",
   "metadata": {},
   "source": [
    "The estimation for $N$ is simply the maximum population. We then get the best initial guess:"
   ]
  },
  {
   "cell_type": "code",
   "execution_count": 12,
   "metadata": {},
   "outputs": [],
   "source": [
    "#NOTE: pass the data as the dataframe\n",
    "def ZG_estimate(data, t0_idx=0, tf_idx=-1, D=None):\n",
    "    data = data.values\n",
    "    #Select the part of the data we will use based on the initial and final indices:\n",
    "    if t0_idx != 0:\n",
    "        data = data[t0_idx:]\n",
    "    if tf_idx != -1:\n",
    "        data = data[:tf_idx]\n",
    "    #First we select the carrying capacity as max sum of monolingual speakers:\n",
    "    N = np.max(np.add(data[:,1], data[:,2]))\n",
    "    N_arr = np.array([N, N])\n",
    "    #For the R parameters:\n",
    "    L = np.array([data[0, 1], data[0, 2], data[0, 3]])\n",
    "    r = R(L)\n",
    "    #For the mutual influence, we use the distance provided (or None) and for Q we use the IC:\n",
    "    Q = np.array([data[0, 1], data[0, 2]])\n",
    "    #print(Q)\n",
    "    sigma = Sigma(Q, D)\n",
    "    return np.array([r[0], r[1], sigma[0], sigma[1], N_arr[0], N_arr[1]])"
   ]
  },
  {
   "cell_type": "markdown",
   "metadata": {},
   "source": [
    "The following function summarizes all the above and performs the fit:"
   ]
  },
  {
   "cell_type": "code",
   "execution_count": 13,
   "metadata": {},
   "outputs": [],
   "source": [
    "def ZG(data, data_x_column=2, ZG_bestGuess=None, computeMSE=True, D=None):\n",
    "    #First we do the modelling:\n",
    "    def ZG_Model(X, r_1, r_2, sigma_1, sigma_2, N_1, N_2):\n",
    "        #print(X)\n",
    "        F1 = r_1*X[0]*(1 - X[0]/N_1 - sigma_1*X[1]/N_2)\n",
    "        F2 = r_2*X[1]*(1 - X[1]/N_2 - sigma_2*X[0]/N_1)\n",
    "        return [F1, F2]\n",
    "\n",
    "    #Model solver\n",
    "    def ZG_ModelSolver(IC, t, r_1, r_2, sigma_1, sigma_2, N_1, N_2, sol=1):\n",
    "        #It is more stable to pass to the odeint method a function without additional parameters:\n",
    "        def LocalModel(IC, t):\n",
    "            return ZG_Model(IC, r_1, r_2, sigma_1, sigma_2, N_1, N_2)\n",
    "        #Now we call the solver, since no method is specified this uses RK45\n",
    "        Solution = odeint(LocalModel, IC, t)\n",
    "        return Solution[:,sol]\n",
    "    \n",
    "    #Pass the data as the dataframe, exactly as it was loaded in section 1\n",
    "    def ZG_preparedata(full_data, x_column=2):\n",
    "\n",
    "        #First we get the datapoints column:\n",
    "        data = full_data.values[:,x_column]\n",
    "\n",
    "        #Get initial condition:\n",
    "        IC = np.array([full_data.values[0, 1], full_data.values[0, 2]])\n",
    "\n",
    "        #Formatting the time:\n",
    "        raw_dataTime = full_data.values[:,0]\n",
    "        t0 = raw_dataTime[0]\n",
    "        tf = raw_dataTime[-1]\n",
    "\n",
    "        dataTime = raw_dataTime - t0 #Discrete time that matches the datapoints\n",
    "        SolverTime = np.linspace(0, tf-t0+1) #Continuous-ish time to plot the solution fitted\n",
    "\n",
    "        RealData = np.array([dataTime, data])\n",
    "        return IC, data, dataTime, SolverTime, RealData\n",
    "\n",
    "    #Model solver\n",
    "    def ZG_ModelSolver(IC, t, r_1, r_2, sigma_1, sigma_2, N_1, N_2, sol=1):\n",
    "        #It is more stable to pass to the odeint method a function without additional parameters:\n",
    "        def LocalModel(IC, t):\n",
    "            return ZG_Model(IC, r_1, r_2, sigma_1, sigma_2, N_1, N_2)\n",
    "        #Now we call the solver, since no method is specified this uses RK45\n",
    "        Solution = odeint(LocalModel, IC, t)\n",
    "        return Solution[:,sol]\n",
    "    \n",
    "    ZG_IC, ZG_data, ZG_dataTime, ZG_SolverTime, ZG_RealData = ZG_preparedata(data,\n",
    "                                                                             x_column=data_x_column)\n",
    "\n",
    "    #Now that we have the IC, we can define the function for the fit:\n",
    "    def ZG_ModelFit(t, r_1, r_2, sigma_1, sigma_2, N_1, N_2):\n",
    "        return ZG_ModelSolver(ZG_IC, t, r_1, r_2, sigma_1, sigma_2, N_1, N_2)\n",
    "    \n",
    "    #If we are not given an initial guess, we must find it:\n",
    "    if type(ZG_bestGuess) == type(None):\n",
    "        ZG_bestGuess = ZG_estimate(data, D=D)\n",
    "    \n",
    "    #Now we do the fit:\n",
    "    ZG_Fit = curve_fit(ZG_ModelFit, ZG_dataTime, ZG_data, p0=ZG_bestGuess)\n",
    "    ZG_bestParams = ZG_Fit[0]\n",
    "    \n",
    "    #Using these parameters, we can run the model to get a \"continuous\" solution:\n",
    "    ZG_fitSolution = ZG_ModelSolver(ZG_IC, ZG_SolverTime,\n",
    "                                    ZG_bestParams[0], ZG_bestParams[1], ZG_bestParams[2],\n",
    "                                    ZG_bestParams[3], ZG_bestParams[4], ZG_bestParams[5])\n",
    "    ZG_ModelData = np.array([ZG_SolverTime, ZG_fitSolution])\n",
    "    \n",
    "    #If we want, we can return the MSE:\n",
    "    MSE = None\n",
    "    if computeMSE == True:\n",
    "        MSE = np.sum([(pred-real)**2 for pred,real in zip(ZG_fitSolution, ZG_data)])\n",
    "    \n",
    "    return ZG_RealData, ZG_ModelData, ZG_bestParams, MSE"
   ]
  },
  {
   "cell_type": "markdown",
   "metadata": {},
   "source": [
    "### 2.3. Luck-Mehta Model (2020)"
   ]
  },
  {
   "cell_type": "code",
   "execution_count": null,
   "metadata": {},
   "outputs": [],
   "source": []
  },
  {
   "cell_type": "markdown",
   "metadata": {},
   "source": [
    "## 3. Simulation"
   ]
  },
  {
   "cell_type": "markdown",
   "metadata": {},
   "source": [
    "Plotting function:"
   ]
  },
  {
   "cell_type": "code",
   "execution_count": 14,
   "metadata": {},
   "outputs": [],
   "source": [
    "#Here, the data should be a 2 x n array where the first column is the corresponding time point.\n",
    "# The RealData will be plotted in a scatter fashion, whereas the ModelData in a continuous fashion.\n",
    "def Plot_FittedSolution(Fig, RealData, ModelData, t0=0,\n",
    "                        axes_labels=[\"Year\", \"Monolingual Speakers\"], title=\" \"):\n",
    "    ax = Fig.gca()\n",
    "    \n",
    "    #First we plot the real data:\n",
    "    x_arr = RealData[0] + t0\n",
    "    y_arr = RealData[1]\n",
    "    ax.scatter(x_arr, y_arr, marker=\"x\", color=\"r\")\n",
    "    \n",
    "    #The regression data:\n",
    "    x_arr2 = ModelData[0] +t0\n",
    "    y_arr2 = ModelData[1]\n",
    "    ax.plot(x_arr2, y_arr2)\n",
    "    \n",
    "    #Now we configure the plot to look nice and add the labels:\n",
    "    ax.xaxis.set_tick_params(labelsize=14)\n",
    "    ax.yaxis.set_tick_params(labelsize=14)\n",
    "    ax.set_xlabel(axes_labels[0],fontsize=16,fontweight='bold')\n",
    "    ax.set_ylabel(axes_labels[1],fontsize=16,fontweight='bold')\n",
    "    ax.set_title(title)\n",
    "    \n",
    "    return Fig"
   ]
  },
  {
   "cell_type": "markdown",
   "metadata": {},
   "source": [
    "### 3.1. Welsh vs. English:"
   ]
  },
  {
   "cell_type": "code",
   "execution_count": 6,
   "metadata": {},
   "outputs": [
    {
     "name": "stderr",
     "output_type": "stream",
     "text": [
      "/Users/gsagostini/opt/anaconda3/lib/python3.8/site-packages/scipy/integrate/odepack.py:247: ODEintWarning: Excess work done on this call (perhaps wrong Dfun type). Run with full_output = 1 to get quantitative information.\n",
      "  warnings.warn(warning_msg, ODEintWarning)\n",
      "/Users/gsagostini/opt/anaconda3/lib/python3.8/site-packages/scipy/integrate/odepack.py:247: ODEintWarning: Illegal input detected (internal error). Run with full_output = 1 to get quantitative information.\n",
      "  warnings.warn(warning_msg, ODEintWarning)\n",
      "/Users/gsagostini/opt/anaconda3/lib/python3.8/site-packages/scipy/optimize/minpack.py:828: OptimizeWarning: Covariance of the parameters could not be estimated\n",
      "  warnings.warn('Covariance of the parameters could not be estimated',\n",
      "<ipython-input-4-dae9447ccaaa>:8: RuntimeWarning: overflow encountered in power\n",
      "  F = c*s*y*(x**a) - c*s_y*x*(y**a)\n"
     ]
    },
    {
     "data": {
      "image/png": "[encoded data removed]",
      "text/plain": [
       "<Figure size 648x432 with 1 Axes>"
      ]
     },
     "metadata": {
      "needs_background": "light"
     },
     "output_type": "display_data"
    }
   ],
   "source": [
    "welsh_AS_RealData, welsh_AS_ModelData, welsh_AS_bestParams, welsh_AS_MSE = AS(welsh_hist_data)\n",
    "\n",
    "fig = plt.figure(2,figsize=(9,6))\n",
    "plot = Plot_FittedSolution(fig, welsh_AS_RealData, welsh_AS_ModelData, t0=1901, title=\"Welsh (Abrams-Strogatz)\")"
   ]
  },
  {
   "cell_type": "code",
   "execution_count": 15,
   "metadata": {},
   "outputs": [
    {
     "name": "stderr",
     "output_type": "stream",
     "text": [
      "/Users/gsagostini/opt/anaconda3/lib/python3.8/site-packages/scipy/integrate/odepack.py:247: ODEintWarning: Excess work done on this call (perhaps wrong Dfun type). Run with full_output = 1 to get quantitative information.\n",
      "  warnings.warn(warning_msg, ODEintWarning)\n"
     ]
    },
    {
     "data": {
      "image/png": "[encoded data removed]",
      "text/plain": [
       "<Figure size 648x432 with 1 Axes>"
      ]
     },
     "metadata": {
      "needs_background": "light"
     },
     "output_type": "display_data"
    }
   ],
   "source": [
    "welsh_ZG_RealData, welsh_ZG_ModelData, welsh_ZG_bestParams, welsh_ZG_MSE = ZG(welsh_hist_data)\n",
    "\n",
    "fig = plt.figure(2,figsize=(9,6))\n",
    "plot = Plot_FittedSolution(fig, welsh_ZG_RealData, welsh_ZG_ModelData, t0=1901, title=\"Welsh (Zhang-Gong)\")"
   ]
  },
  {
   "cell_type": "code",
   "execution_count": null,
   "metadata": {},
   "outputs": [],
   "source": []
  }
 ],
 "metadata": {
  "kernelspec": {
   "display_name": "Python 3",
   "language": "python",
   "name": "python3"
  },
  "language_info": {
   "codemirror_mode": {
    "name": "ipython",
    "version": 3
   },
   "file_extension": ".py",
   "mimetype": "text/x-python",
   "name": "python",
   "nbconvert_exporter": "python",
   "pygments_lexer": "ipython3",
   "version": "3.8.3"
  }
 },
 "nbformat": 4,
 "nbformat_minor": 4
}
