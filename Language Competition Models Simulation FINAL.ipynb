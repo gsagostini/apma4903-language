{
 "cells": [
  {
   "cell_type": "code",
   "execution_count": 18,
   "metadata": {},
   "outputs": [],
   "source": [
    "import numpy as np\n",
    "import math\n",
    "\n",
    "import matplotlib.pyplot as plt\n",
    "\n",
    "import pandas as pd\n",
    "from pathlib import Path"
   ]
  },
  {
   "cell_type": "markdown",
   "metadata": {},
   "source": [
    "# Modelling Language Competition with Dynamical Systems\n",
    "\n",
    "Gabriel Agostini, Gary Casey, and Teresa Brown\n",
    "\n",
    "Code reference: https://github.com/TavoGLC/DataAnalysisByExample/tree/master/ParameterEstimation\n",
    "\n",
    "and https://lmfit.github.io/lmfit-py/index.html\n",
    "\n",
    "November 18th, 2020"
   ]
  },
  {
   "cell_type": "markdown",
   "metadata": {},
   "source": [
    "## 1. Data"
   ]
  },
  {
   "cell_type": "markdown",
   "metadata": {},
   "source": [
    "We load the data for the $4$ cases we would like to test this model against. The data will be an $n\\times 5$ dataframe whose columns are respectively the time array $T$, the total number of monolingual speakers of the preferred language $X_1$, the number of monolingual speakers of the minority language $X_2$, the number of bilingual speakers, and the total population at the given time. Full references are included in the repo."
   ]
  },
  {
   "cell_type": "markdown",
   "metadata": {},
   "source": [
    "(1) English vs. Welsh in Wales ($n=28$)"
   ]
  },
  {
   "cell_type": "code",
   "execution_count": 196,
   "metadata": {},
   "outputs": [],
   "source": [
    "#NOTE that the data for 2002-2019 comes from a single source, and might disagree with the previous\n",
    "# data. Those are rows of idx 10-27. I create new dataframes for each.\n",
    "\n",
    "welsh_data = pd.read_csv(Path(\"data\", \"welsh.csv\"))\n",
    "welsh_data = welsh_data.astype('float64')\n",
    "welsh_hist_data = welsh_data[:10]\n",
    "welsh_new_data = welsh_data[10:]"
   ]
  },
  {
   "cell_type": "markdown",
   "metadata": {},
   "source": [
    "(2) English vs. Spanish in the US ($n = ?$)"
   ]
  },
  {
   "cell_type": "markdown",
   "metadata": {},
   "source": [
    "(3) English vs. French in Montreal ($n=5$)"
   ]
  },
  {
   "cell_type": "code",
   "execution_count": 222,
   "metadata": {},
   "outputs": [],
   "source": [
    "canada_data = pd.read_csv(Path(\"data\", \"canada.csv\"))\n",
    "welsh_data = welsh_data.astype('float64')"
   ]
  },
  {
   "cell_type": "markdown",
   "metadata": {},
   "source": [
    "## 2. Models"
   ]
  },
  {
   "cell_type": "markdown",
   "metadata": {},
   "source": [
    "I use the odeint function in scipy.integrate with the Runge-Kutta order $4$ method. For parameter fitting, I use the curve_fit function in scipy.optimize."
   ]
  },
  {
   "cell_type": "code",
   "execution_count": 114,
   "metadata": {},
   "outputs": [],
   "source": [
    "from scipy.integrate import solve_ivp\n",
    "from scipy.optimize import curve_fit"
   ]
  },
  {
   "cell_type": "markdown",
   "metadata": {},
   "source": [
    "Defining ODE solvers and fitting functions for each of the models, along with a function that, given the data, returns what we need to plot:"
   ]
  },
  {
   "cell_type": "markdown",
   "metadata": {},
   "source": [
    "### 2.1. Abrams-Strogatz Model (2003)"
   ]
  },
  {
   "cell_type": "markdown",
   "metadata": {},
   "source": [
    "The Abrams-Strogatz Model (2003) uses the following equation:\n",
    "\n",
    "$$\\dfrac{d x}{dt} = cs (1-x)x^a - c(1-s)x(1-x)^a$$\n",
    "\n",
    "There are three parameters here, namely $c$, $a$ and $s$. The equation for the second language will not be necessary as they are decoupled and $x_1 = 1 - x_2$."
   ]
  },
  {
   "cell_type": "code",
   "execution_count": 209,
   "metadata": {},
   "outputs": [],
   "source": [
    "def AS(data, AS_bestGuess, data_x_column=2, computeMSE=True):\n",
    "    #First we do the modelling:\n",
    "    def AS_Model(x, s, a):\n",
    "        x = abs(x) #just in case we reachead below zero, since we are exponentiating\n",
    "        y = abs(1-x)\n",
    "        s_y = 1-s\n",
    "        \n",
    "        F = s*y*(x**a) - s_y*x*(y**a)\n",
    "        return [F]\n",
    "    \n",
    "    #Pass the data as the dataframe, exactly as it was loaded in section 1\n",
    "    def AS_preparedata(full_data, x_column=2):\n",
    "\n",
    "        #First we get the datapoints column:\n",
    "        select_data = full_data.values[:,x_column]\n",
    "        \n",
    "        #Normalize it:\n",
    "        data = select_data/full_data.values[:,-1]\n",
    "\n",
    "        #Get initial condition:\n",
    "        IC = np.array([data[0]])\n",
    "\n",
    "        #Formatting the time:\n",
    "        raw_dataTime = full_data.values[:,0]\n",
    "        t0 = raw_dataTime[0]\n",
    "        tf = raw_dataTime[-1]\n",
    "\n",
    "        dataTime = raw_dataTime - t0 #Discrete time that matches the datapoints\n",
    "        SolverTime = np.linspace(0, 2030-t0+1) #Continuous-ish time to plot the solution fitted\n",
    "\n",
    "        RealData = np.array([dataTime, data])\n",
    "        return IC, data, dataTime, SolverTime, RealData\n",
    "\n",
    "    #Model solver\n",
    "    def AS_ModelSolver(IC, t, s, a):\n",
    "        #It is more stable to pass to the odeint method a function without additional parameters:\n",
    "        def LocalModel(t, X):\n",
    "            return AS_Model(X, s, a)\n",
    "        #Now we call the solver, since no method is specified this uses RK45\n",
    "        Solution = solve_ivp(LocalModel, (t[0], t[-1]+1), IC, t_eval = t)\n",
    "        #print(Solution.y)\n",
    "        #print(Solution.y[0])\n",
    "        return Solution.y[0]\n",
    "    \n",
    "    AS_IC, AS_data, AS_dataTime, AS_SolverTime, AS_RealData = AS_preparedata(data,\n",
    "                                                                             x_column=data_x_column)\n",
    "\n",
    "    #Now that we have the IC, we can define the function for the fit:\n",
    "    def AS_ModelFit(t, s, a):\n",
    "        return AS_ModelSolver(AS_IC, t, s, a)\n",
    "    \n",
    "    #print(AS_data)\n",
    "    #print(AS_data.shape)\n",
    "    #Now we do the fit:\n",
    "    AS_bounds = (0, [1, np.inf])\n",
    "    AS_Fit = curve_fit(AS_ModelFit, AS_dataTime, AS_data, p0=AS_bestGuess, method=\"trf\", bounds=AS_bounds,\n",
    "                      maxfev=50000)\n",
    "    AS_bestParams = AS_Fit[0]\n",
    "    \n",
    "    #Using these parameters, we can run the model to get a \"continuous\" solution:\n",
    "    AS_fitSolution = AS_ModelSolver(AS_IC, AS_SolverTime,\n",
    "                                    AS_bestParams[0], AS_bestParams[1])\n",
    "    AS_ModelData = np.array([AS_SolverTime, AS_fitSolution])\n",
    "    \n",
    "    #If we want, we can return the MSE:\n",
    "    MSE = None\n",
    "    if computeMSE == True:\n",
    "        MSE = np.sum([(pred-real)**2 for pred,real in zip(AS_fitSolution, AS_data)])\n",
    "    \n",
    "    return AS_RealData, AS_ModelData, AS_bestParams, MSE"
   ]
  },
  {
   "cell_type": "markdown",
   "metadata": {},
   "source": [
    "### 2.2. Zhang-Gong Model (2013)"
   ]
  },
  {
   "cell_type": "markdown",
   "metadata": {},
   "source": [
    "The Zhang-Gong Model (2003) uses the following equations:\n",
    "\n",
    "$$\\begin{cases}\n",
    "\\dfrac{d x_1}{dt} = r_1x_1\\left(1 - \\dfrac{1}{N_1}x_1 - \\dfrac{\\sigma_1}{N_2}x_2\\right)\n",
    "\\\\\n",
    "\\dfrac{d x_2}{dt} = r_2x_2\\left(1 - \\dfrac{1}{N_2}x_2 - \\dfrac{\\sigma_2}{N_1}x_1\\right)\n",
    "\\end{cases}$$\n",
    "\n",
    "There are six parameters here, namely $r_1, r_2, N_1, N_2, \\sigma_1, \\sigma_2$."
   ]
  },
  {
   "cell_type": "markdown",
   "metadata": {},
   "source": [
    "To find the initial guess of the Zhang-Gong model, we can use their own techniques of estimation. To compute $r$ they use (when data is available), the language inheritance principle I:\n",
    "\n",
    "$$r_1 = p(L_1) = p(L_1L_1) + \\dfrac{1}{2}p(L_1L_2)\\quad\\text{and}\\quad r_2 = p(L_2) = p(L_2L_2) + \\dfrac{1}{2}p(L_1L_2)$$\n",
    "\n",
    "Where $p(XY)$ is the relative proportion of speakers of the languages $X$ and $Y$ in the population."
   ]
  },
  {
   "cell_type": "code",
   "execution_count": 23,
   "metadata": {},
   "outputs": [],
   "source": [
    "#Take the array L to be a 1x3 array with the size of monol population for L1,\n",
    "# for L2, and bilingual respectively\n",
    "def R(L):\n",
    "    tot = np.sum(L)\n",
    "    p_11 = L[0]/tot\n",
    "    p_22 = L[1]/tot\n",
    "    p_12 = L[2]/tot\n",
    "    \n",
    "    return np.array([p_11 + 0.5*p_12, p_22 + 0.5*p_12])"
   ]
  },
  {
   "cell_type": "markdown",
   "metadata": {},
   "source": [
    "Sigma can be estimated according to the language diffusion principle:\n",
    "\n",
    "$$\\sigma_1 = \\dfrac{Q_2}{Q_1}\\exp\\left(\\dfrac{d^2_1 - d^2_2}{4}\\right)\\quad\\text{and}\\quad\n",
    "\\sigma_2 = \\dfrac{Q_1}{Q_2}\\exp\\left(\\dfrac{d^2_2 - d^2_1}{4}\\right)$$\n",
    "\n",
    "Where $d_i$ is the distance of the population from the language center and $Q_i$ is the speaker population at the cultural center."
   ]
  },
  {
   "cell_type": "code",
   "execution_count": 24,
   "metadata": {},
   "outputs": [],
   "source": [
    "def Sigma(Q, D):\n",
    "    if type(D) == type(None):\n",
    "        D = np.zeros_like(Q)\n",
    "    sigma_1 = (Q[1]/(Q[0]+0.1))*math.exp((D[0]**2 - D[1]**2)/4)\n",
    "    sigma_2 = (Q[0]/(Q[1]+0.1))*math.exp((D[1]**2 - D[0]**2)/4)\n",
    "    return np.array([sigma_1, sigma_2])"
   ]
  },
  {
   "cell_type": "markdown",
   "metadata": {},
   "source": [
    "The estimation for $N$ is simply the maximum population. We then get the best initial guess:"
   ]
  },
  {
   "cell_type": "code",
   "execution_count": 25,
   "metadata": {},
   "outputs": [],
   "source": [
    "#NOTE: pass the data as the dataframe\n",
    "def ZG_estimate(data, t0_idx=0, tf_idx=-1, D=None):\n",
    "    data = data.values\n",
    "    #Select the part of the data we will use based on the initial and final indices:\n",
    "    if t0_idx != 0:\n",
    "        data = data[t0_idx:]\n",
    "    if tf_idx != -1:\n",
    "        data = data[:tf_idx]\n",
    "    #First we select the carrying capacity as max sum of monolingual speakers:\n",
    "    N = np.max(np.add(data[:,1], data[:,2]))\n",
    "    N_arr = np.array([N, N])\n",
    "    #For the R parameters:\n",
    "    L = np.array([data[0, 1], data[0, 2], data[0, 3]])\n",
    "    r = R(L)\n",
    "    #For the mutual influence, we use the distance provided (or None) and for Q we use the IC:\n",
    "    Q = np.array([data[0, 1], data[0, 2]])\n",
    "    #print(Q)\n",
    "    sigma = Sigma(Q, D)\n",
    "    return np.array([r[0], r[1], sigma[0], sigma[1], N_arr[0], N_arr[1]])"
   ]
  },
  {
   "cell_type": "markdown",
   "metadata": {},
   "source": [
    "The following function summarizes all the above and performs the fit:"
   ]
  },
  {
   "cell_type": "code",
   "execution_count": 159,
   "metadata": {},
   "outputs": [],
   "source": [
    "def ZG(data, data_x_column=2, ZG_bestGuess=None, computeMSE=True, D=None):\n",
    "    #First we do the modelling:\n",
    "    def ZG_Model(X, r_1, r_2, sigma_1, sigma_2, N_1, N_2):\n",
    "        #print(X)\n",
    "        F1 = r_1*X[0]*(1 - X[0]/N_1 - sigma_1*X[1]/N_2)\n",
    "        F2 = r_2*X[1]*(1 - X[1]/N_2 - sigma_2*X[0]/N_1)\n",
    "        return [F1, F2]\n",
    "    \n",
    "    #Pass the data as the dataframe, exactly as it was loaded in section 1\n",
    "    def ZG_preparedata(full_data, x_column=2):\n",
    "\n",
    "        #First we get the datapoints column:\n",
    "        data = full_data.values[:,x_column]\n",
    "\n",
    "        #Get initial condition:\n",
    "        IC = np.array([full_data.values[0, 1], full_data.values[0, 2]])\n",
    "\n",
    "        #Formatting the time:\n",
    "        raw_dataTime = full_data.values[:,0]\n",
    "        t0 = raw_dataTime[0]\n",
    "        tf = raw_dataTime[-1]\n",
    "\n",
    "        dataTime = raw_dataTime - t0 #Discrete time that matches the datapoints\n",
    "        SolverTime = np.linspace(0, 2030-t0+1) #Continuous-ish time to plot the solution fitted\n",
    "\n",
    "        RealData = np.array([dataTime, data])\n",
    "        return IC, data, dataTime, SolverTime, RealData\n",
    "\n",
    "    #Model solver\n",
    "    def ZG_ModelSolver(IC, t, r_1, r_2, sigma_1, sigma_2, N_1, N_2, sol=1):\n",
    "        #It is more stable to pass to the odeint method a function without additional parameters:\n",
    "        def LocalModel(t, X):\n",
    "            return ZG_Model(X, r_1, r_2, sigma_1, sigma_2, N_1, N_2)\n",
    "        #Now we call the solver, since no method is specified this uses RK45\n",
    "        #print(IC)\n",
    "        #print(IC.shape)\n",
    "        Solution = solve_ivp(LocalModel, (t[0], t[-1]+1), IC, t_eval = t)\n",
    "        #print(Solution.y[sol])\n",
    "        #print(Solution.y[sol].shape)\n",
    "        return Solution.y[sol]\n",
    "    \n",
    "    ZG_IC, ZG_data, ZG_dataTime, ZG_SolverTime, ZG_RealData = ZG_preparedata(data,\n",
    "                                                                             x_column=data_x_column)\n",
    "\n",
    "    #Now that we have the IC, we can define the function for the fit:\n",
    "    def ZG_ModelFit(t, r_1, r_2, sigma_1, sigma_2, N_1, N_2):\n",
    "        return ZG_ModelSolver(ZG_IC, t, r_1, r_2, sigma_1, sigma_2, N_1, N_2)\n",
    "    \n",
    "    #If we are not given an initial guess, we must find it:\n",
    "    if type(ZG_bestGuess) == type(None):\n",
    "        ZG_bestGuess = ZG_estimate(data, D=D)\n",
    "    \n",
    "    #print(ZG_data)\n",
    "    #print(ZG_data.shape)\n",
    "    #Now we do the fit:\n",
    "    ZG_bounds = (0, [1, 1, np.inf, np.inf, np.inf, np.inf])\n",
    "    ZG_Fit = curve_fit(ZG_ModelFit, ZG_dataTime, ZG_data, p0=ZG_bestGuess,\n",
    "                       bounds=ZG_bounds, method=\"trf\", maxfev=50000)\n",
    "    ZG_bestParams = ZG_Fit[0]\n",
    "    \n",
    "    #Using these parameters, we can run the model to get a \"continuous\" solution:\n",
    "    ZG_fitSolution = ZG_ModelSolver(ZG_IC, ZG_SolverTime,\n",
    "                                    ZG_bestParams[0], ZG_bestParams[1], ZG_bestParams[2],\n",
    "                                    ZG_bestParams[3], ZG_bestParams[4], ZG_bestParams[5])\n",
    "    ZG_ModelData = np.array([ZG_SolverTime, ZG_fitSolution])\n",
    "    \n",
    "    #If we want, we can return the MSE:\n",
    "    MSE = None\n",
    "    if computeMSE == True:\n",
    "        MSE = np.sum([(pred-real)**2 for pred,real in zip(ZG_fitSolution, ZG_data)])\n",
    "    \n",
    "    return ZG_RealData, ZG_ModelData, ZG_bestParams, MSE"
   ]
  },
  {
   "cell_type": "markdown",
   "metadata": {},
   "source": [
    "### 2.3. Luck-Mehta Model (2020)"
   ]
  },
  {
   "cell_type": "code",
   "execution_count": null,
   "metadata": {},
   "outputs": [],
   "source": []
  },
  {
   "cell_type": "markdown",
   "metadata": {},
   "source": [
    "## 3. Simulation"
   ]
  },
  {
   "cell_type": "markdown",
   "metadata": {},
   "source": [
    "Plotting function:"
   ]
  },
  {
   "cell_type": "code",
   "execution_count": 27,
   "metadata": {},
   "outputs": [],
   "source": [
    "#Here, the data should be a 2 x n array where the first column is the corresponding time point.\n",
    "# The RealData will be plotted in a scatter fashion, whereas the ModelData in a continuous fashion.\n",
    "def Plot_FittedSolution(Fig, RealData, ModelData, t0=0,\n",
    "                        axes_labels=[\"Year\", \"Monolingual Speakers\"], title=\" \"):\n",
    "    ax = Fig.gca()\n",
    "    \n",
    "    #First we plot the real data:\n",
    "    x_arr = RealData[0] + t0\n",
    "    y_arr = RealData[1]\n",
    "    ax.scatter(x_arr, y_arr, marker=\"x\", color=\"r\")\n",
    "    \n",
    "    #The regression data:\n",
    "    x_arr2 = ModelData[0] +t0\n",
    "    y_arr2 = ModelData[1]\n",
    "    ax.plot(x_arr2, y_arr2)\n",
    "    \n",
    "    #Now we configure the plot to look nice and add the labels:\n",
    "    ax.xaxis.set_tick_params(labelsize=14)\n",
    "    ax.yaxis.set_tick_params(labelsize=14)\n",
    "    ax.set_xlabel(axes_labels[0],fontsize=16,fontweight='bold')\n",
    "    ax.set_ylabel(axes_labels[1],fontsize=16,fontweight='bold')\n",
    "    ax.set_title(title)\n",
    "    \n",
    "    return Fig"
   ]
  },
  {
   "cell_type": "markdown",
   "metadata": {},
   "source": [
    "### 3.1. Welsh vs. English:"
   ]
  },
  {
   "cell_type": "code",
   "execution_count": 210,
   "metadata": {},
   "outputs": [
    {
     "data": {
      "image/png": "[encoded data removed]",
      "text/plain": [
       "<Figure size 648x432 with 1 Axes>"
      ]
     },
     "metadata": {
      "needs_background": "light"
     },
     "output_type": "display_data"
    }
   ],
   "source": [
    "AS_bestGuess = [0.5, 1]\n",
    "\n",
    "welsh_AS_RealData, welsh_AS_ModelData, welsh_AS_bestParams, welsh_AS_MSE = AS(welsh_hist_data, AS_bestGuess=AS_bestGuess)\n",
    "\n",
    "fig = plt.figure(2,figsize=(9,6))\n",
    "plot = Plot_FittedSolution(fig, welsh_AS_RealData, welsh_AS_ModelData, t0=1991, title=\"Welsh (Abrams-Strogatz)\")"
   ]
  },
  {
   "cell_type": "markdown",
   "metadata": {},
   "source": [
    "Is this similar to what we expected?"
   ]
  },
  {
   "cell_type": "code",
   "execution_count": 211,
   "metadata": {},
   "outputs": [
    {
     "data": {
      "text/plain": [
       "array([0.46349912, 0.98160148])"
      ]
     },
     "execution_count": 211,
     "metadata": {},
     "output_type": "execute_result"
    }
   ],
   "source": [
    "welsh_AS_bestParams"
   ]
  },
  {
   "cell_type": "code",
   "execution_count": 212,
   "metadata": {},
   "outputs": [
    {
     "data": {
      "text/plain": [
       "0.030472665766660918"
      ]
     },
     "execution_count": 212,
     "metadata": {},
     "output_type": "execute_result"
    }
   ],
   "source": [
    "welsh_AS_MSE"
   ]
  },
  {
   "cell_type": "code",
   "execution_count": 213,
   "metadata": {},
   "outputs": [
    {
     "data": {
      "image/png": "[encoded data removed]",
      "text/plain": [
       "<Figure size 648x432 with 1 Axes>"
      ]
     },
     "metadata": {
      "needs_background": "light"
     },
     "output_type": "display_data"
    }
   ],
   "source": [
    "welsh_ZG_RealData, welsh_ZG_ModelData, welsh_ZG_bestParams, welsh_ZG_MSE = ZG(welsh_hist_data)\n",
    "\n",
    "fig = plt.figure(2,figsize=(9,6))\n",
    "plot = Plot_FittedSolution(fig, welsh_ZG_RealData, welsh_ZG_ModelData, t0=1901, title=\"Welsh (Zhang-Gong)\")"
   ]
  },
  {
   "cell_type": "markdown",
   "metadata": {},
   "source": [
    "How do the parameters compare?"
   ]
  },
  {
   "cell_type": "code",
   "execution_count": 214,
   "metadata": {},
   "outputs": [
    {
     "data": {
      "text/plain": [
       "array([2.60881886e-01, 2.13607943e-02, 2.64977303e+00, 3.11420891e+00,\n",
       "       8.63629193e+05, 2.34990890e+06])"
      ]
     },
     "execution_count": 214,
     "metadata": {},
     "output_type": "execute_result"
    }
   ],
   "source": [
    "welsh_ZG_bestParams"
   ]
  },
  {
   "cell_type": "markdown",
   "metadata": {},
   "source": [
    "### 3.3. French vs. English (Montreal)"
   ]
  },
  {
   "cell_type": "code",
   "execution_count": 215,
   "metadata": {},
   "outputs": [
    {
     "data": {
      "image/png": "[encoded data removed]",
      "text/plain": [
       "<Figure size 648x432 with 1 Axes>"
      ]
     },
     "metadata": {
      "needs_background": "light"
     },
     "output_type": "display_data"
    }
   ],
   "source": [
    "canada_AS_RealData, canada_AS_ModelData, canada_AS_bestParams, canada_AS_MSE = AS(canada_data, AS_bestGuess=AS_bestGuess)\n",
    "\n",
    "fig = plt.figure(2,figsize=(9,6))\n",
    "plot = Plot_FittedSolution(fig, canada_AS_RealData, canada_AS_ModelData, t0=1996, title=\"French in Montreal (Abrams-Strogatz)\")"
   ]
  },
  {
   "cell_type": "markdown",
   "metadata": {},
   "source": [
    "Why does this happen?"
   ]
  },
  {
   "cell_type": "code",
   "execution_count": 216,
   "metadata": {},
   "outputs": [
    {
     "data": {
      "text/plain": [
       "array([0.2977158 , 0.66096534])"
      ]
     },
     "execution_count": 216,
     "metadata": {},
     "output_type": "execute_result"
    }
   ],
   "source": [
    "canada_AS_bestParams"
   ]
  },
  {
   "cell_type": "code",
   "execution_count": 217,
   "metadata": {},
   "outputs": [
    {
     "data": {
      "text/plain": [
       "0.00021910233123755154"
      ]
     },
     "execution_count": 217,
     "metadata": {},
     "output_type": "execute_result"
    }
   ],
   "source": [
    "canada_AS_MSE"
   ]
  },
  {
   "cell_type": "code",
   "execution_count": 221,
   "metadata": {},
   "outputs": [
    {
     "name": "stderr",
     "output_type": "stream",
     "text": [
      "/Users/gsagostini/opt/anaconda3/lib/python3.8/site-packages/scipy/optimize/minpack.py:828: OptimizeWarning: Covariance of the parameters could not be estimated\n",
      "  warnings.warn('Covariance of the parameters could not be estimated',\n"
     ]
    },
    {
     "data": {
      "image/png": "[encoded data removed]",
      "text/plain": [
       "<Figure size 648x432 with 1 Axes>"
      ]
     },
     "metadata": {
      "needs_background": "light"
     },
     "output_type": "display_data"
    }
   ],
   "source": [
    "canada_ZG_RealData, canada_ZG_ModelData, canada_ZG_bestParams, canada_ZG_MSE = ZG(canada_data)\n",
    "\n",
    "fig = plt.figure(2,figsize=(9,6))\n",
    "plot = Plot_FittedSolution(fig, canada_ZG_RealData, canada_ZG_ModelData, t0=1996, title=\"Welsh (Zhang-Gong)\")"
   ]
  },
  {
   "cell_type": "code",
   "execution_count": 219,
   "metadata": {},
   "outputs": [
    {
     "data": {
      "text/plain": [
       "array([1.56389803e-01, 6.20219214e-02, 1.42626762e+02, 6.10102343e+01,\n",
       "       1.76295961e+06, 3.16133466e+05])"
      ]
     },
     "execution_count": 219,
     "metadata": {},
     "output_type": "execute_result"
    }
   ],
   "source": [
    "canada_ZG_bestParams"
   ]
  },
  {
   "cell_type": "code",
   "execution_count": 220,
   "metadata": {},
   "outputs": [
    {
     "data": {
      "text/plain": [
       "2800056899.7700253"
      ]
     },
     "execution_count": 220,
     "metadata": {},
     "output_type": "execute_result"
    }
   ],
   "source": [
    "canada_ZG_MSE"
   ]
  },
  {
   "cell_type": "code",
   "execution_count": null,
   "metadata": {},
   "outputs": [],
   "source": []
  }
 ],
 "metadata": {
  "kernelspec": {
   "display_name": "Python 3",
   "language": "python",
   "name": "python3"
  },
  "language_info": {
   "codemirror_mode": {
    "name": "ipython",
    "version": 3
   },
   "file_extension": ".py",
   "mimetype": "text/x-python",
   "name": "python",
   "nbconvert_exporter": "python",
   "pygments_lexer": "ipython3",
   "version": "3.8.3"
  }
 },
 "nbformat": 4,
 "nbformat_minor": 4
}
